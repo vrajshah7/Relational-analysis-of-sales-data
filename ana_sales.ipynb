{
  "nbformat": 4,
  "nbformat_minor": 0,
  "metadata": {
    "colab": {
      "name": "ana_sales.ipynb",
      "provenance": []
    },
    "kernelspec": {
      "name": "python3",
      "display_name": "Python 3"
    },
    "language_info": {
      "name": "python"
    }
  },
  "cells": [
    {
      "cell_type": "code",
      "execution_count": null,
      "metadata": {
        "id": "gj9iUzEPGA0b"
      },
      "outputs": [],
      "source": [
        "from scipy.stats import pearsonr\n",
        "from sklearn.decomposition import TruncatedSVD\n",
        "from google.colab import drive\n",
        "import pandas as pd\n",
        "import numpy as np\n",
        "import seaborn as sns \n",
        "import matplotlib.pyplot as plt \n"
      ]
    },
    {
      "cell_type": "code",
      "source": [
        "drive.mount('/content/gdrive')"
      ],
      "metadata": {
        "colab": {
          "base_uri": "https://localhost:8080/"
        },
        "id": "dXazbsNuHWtp",
        "outputId": "8d1ec6f9-0699-4409-a2cc-7c7ac340c893"
      },
      "execution_count": null,
      "outputs": [
        {
          "output_type": "stream",
          "name": "stdout",
          "text": [
            "Mounted at /content/gdrive\n"
          ]
        }
      ]
    },
    {
      "cell_type": "code",
      "source": [
        "a = []\n",
        "b = []\n",
        "c = []"
      ],
      "metadata": {
        "id": "lnAoVpErTcfr"
      },
      "execution_count": null,
      "outputs": []
    },
    {
      "cell_type": "code",
      "source": [
        "df0 = pd.read_csv('gdrive/My Drive/Colab Notebooks/citya_clu/cluster_0.csv')\n",
        "df1 = pd.read_csv('gdrive/My Drive/Colab Notebooks/citya_clu/cluster_1.csv')\n",
        "df2 = pd.read_csv('gdrive/My Drive/Colab Notebooks/citya_clu/cluster_2.csv')"
      ],
      "metadata": {
        "id": "DPmSI2k3GxI5"
      },
      "execution_count": null,
      "outputs": []
    },
    {
      "cell_type": "code",
      "source": [
        "svd = TruncatedSVD(n_components=1, algorithm='randomized', n_iter=100, random_state=7)\n",
        "for i in (df0, df1, df2):\n",
        "  svd.fit(i)\n",
        "  a.append(svd.components_)\n",
        "a"
      ],
      "metadata": {
        "colab": {
          "base_uri": "https://localhost:8080/"
        },
        "id": "WZATY8GqHvjg",
        "outputId": "b8aa17f9-4be2-4f9e-926f-dd098f95afdf"
      },
      "execution_count": null,
      "outputs": [
        {
          "output_type": "execute_result",
          "data": {
            "text/plain": [
              "[array([[4.55988409e-05, 1.30288802e-04, 4.59678553e-04, 1.03441887e-04,\n",
              "         2.08532657e-05, 2.25778773e-04, 5.03935744e-04, 7.26344523e-04,\n",
              "         9.99999463e-01]]),\n",
              " array([[1.56309159e-04, 4.73285467e-04, 1.62605353e-03, 3.80195488e-04,\n",
              "         8.18141327e-05, 1.37265995e-03, 2.23868989e-03, 2.65227229e-03,\n",
              "         9.99991513e-01]]),\n",
              " array([[8.08258116e-05, 2.45554091e-04, 8.34841528e-04, 1.93313431e-04,\n",
              "         4.12549037e-05, 5.59047318e-04, 1.05172879e-03, 1.35594450e-03,\n",
              "         9.99997970e-01]])]"
            ]
          },
          "metadata": {},
          "execution_count": 7
        }
      ]
    },
    {
      "cell_type": "code",
      "source": [
        "df0 = pd.read_csv('gdrive/My Drive/Colab Notebooks/cityb_clu/cluster_0.csv')\n",
        "df1 = pd.read_csv('gdrive/My Drive/Colab Notebooks/cityb_clu/cluster_1.csv')\n",
        "df2 = pd.read_csv('gdrive/My Drive/Colab Notebooks/cityb_clu/cluster_2.csv')"
      ],
      "metadata": {
        "id": "60Di1JqcTzIc"
      },
      "execution_count": null,
      "outputs": []
    },
    {
      "cell_type": "code",
      "source": [
        "for i in (df0, df1, df2):\n",
        "  svd.fit(i)\n",
        "  b.append(svd.components_)\n",
        "b"
      ],
      "metadata": {
        "colab": {
          "base_uri": "https://localhost:8080/"
        },
        "id": "WPQ8p2S1T0Wj",
        "outputId": "f0b4beca-904c-4ddf-b5ea-373dafd56e7e"
      },
      "execution_count": null,
      "outputs": [
        {
          "output_type": "execute_result",
          "data": {
            "text/plain": [
              "[array([[8.02177008e-05, 2.65837214e-04, 8.57732567e-04, 2.00508128e-04,\n",
              "         4.36394470e-05, 5.46181279e-04, 1.04316037e-03, 1.35341957e-03,\n",
              "         9.99997963e-01]]),\n",
              " array([[1.50682824e-04, 5.02372632e-04, 1.61581559e-03, 3.86154898e-04,\n",
              "         8.41868075e-05, 1.37607691e-03, 2.22667603e-03, 2.64289563e-03,\n",
              "         9.99991561e-01]]),\n",
              " array([[4.64170090e-05, 1.44294775e-04, 4.76916411e-04, 1.09986375e-04,\n",
              "         2.37331808e-05, 2.10377918e-04, 5.01324353e-04, 7.30743826e-04,\n",
              "         9.99999454e-01]])]"
            ]
          },
          "metadata": {},
          "execution_count": 9
        }
      ]
    },
    {
      "cell_type": "code",
      "source": [
        "df0 = pd.read_csv('gdrive/My Drive/Colab Notebooks/cityc_clu/cluster_0.csv')\n",
        "df1 = pd.read_csv('gdrive/My Drive/Colab Notebooks/cityc_clu/cluster_1.csv')\n",
        "df2 = pd.read_csv('gdrive/My Drive/Colab Notebooks/cityc_clu/cluster_2.csv')\n",
        "df3 = pd.read_csv('gdrive/My Drive/Colab Notebooks/cityc_clu/cluster_3.csv')"
      ],
      "metadata": {
        "id": "t4nvxn8DT0aW"
      },
      "execution_count": null,
      "outputs": []
    },
    {
      "cell_type": "code",
      "source": [
        "for i in (df0, df1, df2, df3):\n",
        "  svd.fit(i)\n",
        "  c.append(svd.components_)\n",
        "c"
      ],
      "metadata": {
        "colab": {
          "base_uri": "https://localhost:8080/"
        },
        "id": "OHUfTIaeUtj7",
        "outputId": "c98e3689-e63e-49b1-cd4b-650ed782bd45"
      },
      "execution_count": null,
      "outputs": [
        {
          "output_type": "execute_result",
          "data": {
            "text/plain": [
              "[array([[8.17915844e-05, 3.03001080e-04, 9.24835851e-04, 2.07544862e-04,\n",
              "         4.84555040e-05, 5.74570853e-04, 1.09775158e-03, 1.39390912e-03,\n",
              "         9.99997761e-01]]),\n",
              " array([[4.07146111e-05, 1.35478401e-04, 4.31392124e-04, 9.46624031e-05,\n",
              "         2.17370022e-05, 2.01440222e-04, 4.51815197e-04, 6.50413168e-04,\n",
              "         9.99999558e-01]]),\n",
              " array([[1.53564866e-04, 5.59432702e-04, 1.73062608e-03, 3.88546286e-04,\n",
              "         8.80329485e-05, 1.41753458e-03, 2.25787743e-03, 2.65329195e-03,\n",
              "         9.99991181e-01]]),\n",
              " array([[5.39823624e-05, 1.80672856e-04, 5.84616878e-04, 1.27704240e-04,\n",
              "         2.93077020e-05, 2.08490728e-04, 5.53688067e-04, 8.48622922e-04,\n",
              "         9.99999268e-01]])]"
            ]
          },
          "metadata": {},
          "execution_count": 11
        }
      ]
    },
    {
      "cell_type": "code",
      "source": [
        "def sentence_similarity(x, y):\n",
        "    vector1 = np.squeeze(np.asarray(x))\n",
        "    vector2 = np.squeeze(np.asarray(y))\n",
        "    return pearsonr(vector1, vector2)[0]\n",
        " \n",
        "def build_similarity_matrix(x,y):\n",
        "    # Create an empty similarity matrix\n",
        "    similarity_matrix = np.zeros((len(x), len(y)))\n",
        " \n",
        "    for idx1 in range(len(x)):\n",
        "        for idx2 in range(len(y)):\n",
        "            similarity_matrix[idx1][idx2] = sentence_similarity(x[idx1], y[idx2])\n",
        "\n",
        "    return similarity_matrix\n"
      ],
      "metadata": {
        "id": "S5wfj2zQVisl"
      },
      "execution_count": null,
      "outputs": []
    },
    {
      "cell_type": "code",
      "source": [
        "sm1 = build_similarity_matrix(b, c)\n",
        "sm1"
      ],
      "metadata": {
        "colab": {
          "base_uri": "https://localhost:8080/"
        },
        "id": "vlWNejcxWfWt",
        "outputId": "b06b4ab2-86cd-4e50-8859-0e92be71795a"
      },
      "execution_count": null,
      "outputs": [
        {
          "output_type": "execute_result",
          "data": {
            "text/plain": [
              "array([[1.        , 0.99999973, 0.99999895, 0.99999984],\n",
              "       [0.99999906, 0.99999769, 0.99999999, 0.99999802],\n",
              "       [0.99999975, 1.        , 0.99999778, 0.99999999]])"
            ]
          },
          "metadata": {},
          "execution_count": 24
        }
      ]
    },
    {
      "cell_type": "code",
      "source": [
        "f, ax = plt.subplots(figsize =(9, 8)) \n",
        "sns.heatmap(sm1, ax = ax, cmap =\"YlGnBu\", linewidths = 0.1)"
      ],
      "metadata": {
        "colab": {
          "base_uri": "https://localhost:8080/",
          "height": 511
        },
        "id": "bSflynaiWrqz",
        "outputId": "95aa34ea-6676-485e-fd1b-dcf05aff97e3"
      },
      "execution_count": null,
      "outputs": [
        {
          "output_type": "execute_result",
          "data": {
            "text/plain": [
              "<matplotlib.axes._subplots.AxesSubplot at 0x7ff8132ebe10>"
            ]
          },
          "metadata": {},
          "execution_count": 25
        },
        {
          "output_type": "display_data",
          "data": {
            "text/plain": [
              "<Figure size 648x576 with 2 Axes>"
            ],
            "image/png": "[encoded data removed]"
          },
          "metadata": {
            "needs_background": "light"
          }
        }
      ]
    }
  ]
}